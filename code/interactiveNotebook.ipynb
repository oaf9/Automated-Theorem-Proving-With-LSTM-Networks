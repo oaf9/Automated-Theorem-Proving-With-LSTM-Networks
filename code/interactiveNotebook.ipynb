{
 "cells": [
  {
   "cell_type": "markdown",
   "metadata": {},
   "source": [
    "### Proving Theorems In Propositional Logic with LSTM-Based Text Generators\n",
    "#### Author: Omar Afifi\n",
    "\n",
    "Consider a number of propositional (i.e. variable-free) sentences (premsises). For example: \n",
    "\n",
    "1. p→q \n",
    "2. o\n",
    "3. pv¬o\n",
    "\n",
    "A propositional proof from the premises to a conclusion (another sentence) is a sequence of variable-free statements that follow from the premises by logical deduction rules (e.g. modus ponens, modus tollens, modus tollendo ponens, dysjuntive elimination, etc ... )\n",
    "\n",
    "For example, a proof of the propositional sentence (q) from the preceding premises is as follows: \n",
    "\n",
    "4. ¬¬o (from 2, double negation)\n",
    "5. p (from 3 and 4, dysjuntive elimination )\n",
    "5. q (from 1 and 5, modus ponens)\n",
    "\n",
    "QED.\n",
    "\n",
    "\n",
    "This notebook explores the utility of using LSTM text-generators to generate a propositional proof given a collection of propositional sentences. Our hope is that it can be helpful as a stepping stone to making progress in the arena of stochastic theorem provers. \n",
    "\n",
    "Credits: Hugging Face User ergotts for building this dataset: https://huggingface.co/datasets/ergotts/propositional-logic\n"
   ]
  },
  {
   "cell_type": "markdown",
   "metadata": {},
   "source": [
    "### Loading Data and preparring the input"
   ]
  },
  {
   "cell_type": "code",
   "execution_count": 1,
   "metadata": {},
   "outputs": [
    {
     "name": "stderr",
     "output_type": "stream",
     "text": [
      "/Users/omarafifi/Downloads/LSTM-Prover/Automated-Theorem-Proving-With-LSTM-Networks/lstm_env/lib/python3.12/site-packages/tqdm/auto.py:21: TqdmWarning: IProgress not found. Please update jupyter and ipywidgets. See https://ipywidgets.readthedocs.io/en/stable/user_install.html\n",
      "  from .autonotebook import tqdm as notebook_tqdm\n"
     ]
    }
   ],
   "source": [
    "import process_data\n",
    "\n",
    "#load the data from hugging face mode = 'w' means that we are tokenizing words rather than characters or sentences. \n",
    "proofs_dataset = process_data.LoadLogicData(mode = 'w') \n",
    "\n",
    "#format the proofs: essentially just mapping words to integers and then creating n-gram sequences\n",
    "word_to_int, int_to_word, sequenced_proofs = process_data.generate_sequences(proofs_dataset)\n",
    "word_to_int[' '] = 0; int_to_word[0] = ' '\n",
    "\n",
    "# pad the sequences \n",
    "sequenced_proofs = process_data.pad(sequenced_proofs, value = 0)\n",
    "#split data into input and label by setting label equal to next word.\n",
    "X,y = process_data.makeXy(sequenced_proofs)\n"
   ]
  },
  {
   "cell_type": "markdown",
   "metadata": {},
   "source": [
    "### making the data compatible with torch API"
   ]
  },
  {
   "cell_type": "code",
   "execution_count": 2,
   "metadata": {},
   "outputs": [],
   "source": [
    "import torch as t\n",
    "import torch.utils.data  as data\n",
    "\n",
    "X = t.tensor(X, dtype = t.int64)\n",
    "y = t.tensor(y, dtype = t.int64)\n",
    "\n",
    "torch_data = data.DataLoader(data.TensorDataset(X,y),\n",
    "                            batch_size = 100)"
   ]
  },
  {
   "cell_type": "markdown",
   "metadata": {},
   "source": [
    "### Loading the Model and Training"
   ]
  },
  {
   "cell_type": "code",
   "execution_count": null,
   "metadata": {},
   "outputs": [],
   "source": [
    "import torch\n",
    "import model\n",
    "\n",
    "vocab_size = len(word_to_int)\n",
    "hidden_size = 2\n",
    "num_layers = 2\n",
    "loss_function = torch.nn.CrossEntropyLoss(reduction = \"mean\")\n",
    "\n",
    "\n",
    "\n",
    "lstm = model.LSTM(seq_length = len(X[0]), \n",
    "            hidden_size = hidden_size, \n",
    "            num_layers = num_layers, \n",
    "            vocab_size = vocab_size)\n",
    "\n",
    "\n",
    "optimizer = torch.optim.Adam(params = lstm.parameters(), lr = .0001)\n",
    "lstm.train(torch_data, 1000, loss_function, optimizer)\n"
   ]
  }
 ],
 "metadata": {
  "kernelspec": {
   "display_name": "lstm_env",
   "language": "python",
   "name": "python3"
  },
  "language_info": {
   "codemirror_mode": {
    "name": "ipython",
    "version": 3
   },
   "file_extension": ".py",
   "mimetype": "text/x-python",
   "name": "python",
   "nbconvert_exporter": "python",
   "pygments_lexer": "ipython3",
   "version": "3.12.4"
  }
 },
 "nbformat": 4,
 "nbformat_minor": 2
}
