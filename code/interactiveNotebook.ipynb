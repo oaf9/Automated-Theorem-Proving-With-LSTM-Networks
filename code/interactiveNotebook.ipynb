{
 "cells": [
  {
   "cell_type": "markdown",
   "metadata": {},
   "source": [
    "### Proving Theorems In Propositional Logic with LSTM-Based Text Generators\n",
    "#### Author: Omar Afifi\n",
    "\n",
    "Consider a number of propositional (i.e. variable-free) sentences (premsises). For example: \n",
    "\n",
    "1. p→q \n",
    "2. o\n",
    "3. pv¬o\n",
    "\n",
    "A propositional proof from the premises to a conclusion (another sentence) is a sequence of variable-free statements that follow from the premises by logical deduction rules (e.g. modus ponens, modus tollens, modus tollendo ponens, dysjuntive elimination, etc ... )\n",
    "\n",
    "For example, a proof of the propositional sentence (q) from the preceding premises is as follows: \n",
    "\n",
    "4. ¬¬o (from 2, double negation)\n",
    "5. p (from 3 and 4, dysjuntive elimination )\n",
    "5. q (from 1 and 5, modus ponens)\n",
    "\n",
    "QED.\n",
    "\n",
    "\n",
    "This notebook explores the utility of using LSTM text-generators to generate a propositional proof given a collection of propositional sentences. Our hope is that it can be helpful as a stepping stone to making progress in the arena of stochastic theorem provers. \n",
    "\n",
    "Credits: Hugging Face User ergotts for building this dataset: https://huggingface.co/datasets/ergotts/propositional-logic\n"
   ]
  },
  {
   "cell_type": "markdown",
   "metadata": {},
   "source": [
    "### Loading Data and preparring the input"
   ]
  },
  {
   "cell_type": "code",
   "execution_count": 130,
   "metadata": {},
   "outputs": [],
   "source": [
    "import process_data\n",
    "\n",
    "#load the data from hugging face mode = 'w' means that we are tokenizing words rather than characters or sentences. \n",
    "proofs_dataset = process_data.LoadLogicData(mode = 'w') \n",
    "\n",
    "#format the proofs: essentially just mapping words to integers and then creating n-gram sequences\n",
    "word_to_int, int_to_word, sequenced_proofs = process_data.generate_sequences(proofs_dataset)\n",
    "\n",
    "#split data into input and label by setting label equal to next word.\n",
    "#sequence length is the length of eqch sequence, this allows us to pack them during training. \n",
    "X, sequence_lengths,y = process_data.makeXy(sequenced_proofs)\n"
   ]
  },
  {
   "cell_type": "markdown",
   "metadata": {},
   "source": [
    "### making the data compatible with torch API"
   ]
  },
  {
   "cell_type": "code",
   "execution_count": 131,
   "metadata": {},
   "outputs": [],
   "source": [
    "import torch as t\n",
    "import torch.utils.data  as data\n",
    "\n",
    "X = t.tensor(X, dtype = t.int64)\n",
    "sequence_lengths =  t.tensor(sequence_lengths, dtype = t.int64)\n",
    "y = t.tensor(y, dtype = t.int64)\n",
    "\n",
    "torch_data = data.DataLoader(data.TensorDataset(X,sequence_lengths, y),\n",
    "                            batch_size = 100)"
   ]
  },
  {
   "cell_type": "markdown",
   "metadata": {},
   "source": [
    "### Loading the Model and Training"
   ]
  },
  {
   "cell_type": "code",
   "execution_count": null,
   "metadata": {},
   "outputs": [],
   "source": [
    "import torch \n",
    "from torch import nn\n",
    "from torch.nn import functional as F\n",
    "from torch.nn.utils.rnn import pack_padded_sequence, pad_packed_sequence\n",
    "\n",
    "class LSTM(nn.Module):\n",
    "    #constructor that inherits from nn.Module\n",
    "    def __init__(self, seq_length,  hidden_size, num_layers,vocab_size):\n",
    "\n",
    "        super(LSTM, self).__init__()\n",
    "        #should probably initilize the hidden states\n",
    "        self.seq_length = seq_length\n",
    "        self.hidden_dim = hidden_size\n",
    "        self.vocab_size = vocab_size\n",
    "        self.num_layers = num_layers\n",
    "\n",
    "        #we need to embed the words, a rule of thumb is that the \n",
    "        # embedding has the fourth root of the size of the vocabulary\n",
    "        self.embedding = nn.Embedding(vocab_size, hidden_size)\n",
    "\n",
    "        #initilize an lstm layer\n",
    "        self.lstm = nn.LSTM(hidden_size, hidden_size, num_layers, batch_first = True)\n",
    "        \n",
    "        #output hidden layer\n",
    "        self.fc = nn.Linear(hidden_size, self.vocab_size)\n",
    "\n",
    "    def forward(self, X, sequence_lengths):\n",
    "        \"\"\" forward pass through network\"\"\"\n",
    "\n",
    "        X = self.embedding(X)\n",
    "\n",
    "        X = pack_padded_sequence(X, sequence_lengths, \n",
    "                                 batch_first = True, \n",
    "                                 enforce_sorted = False)\n",
    "\n",
    "\n",
    "        X, (H,C) = self.lstm(X)\n",
    "        X, _ = pad_packed_sequence(X, batch_first = True)\n",
    "\n",
    "        fc_out = self.fc(X)\n",
    "\n",
    "        return F.log_softmax(fc_out, dim = -1)\n",
    "\n",
    "\n",
    "    def train(self, train_loader, epochs, \n",
    "              loss_function, optimizer):\n",
    "\n",
    "        for epoch in range(epochs): # for each epoch\n",
    "\n",
    "            epoch_loss = 0\n",
    "            correct_count = 0\n",
    "            prediction_count = 0\n",
    "\n",
    "            for index, data in enumerate(train_loader): #one pass over the training data\n",
    "\n",
    "                X, sequence_lengths, y = data\n",
    "\n",
    "                optimizer.zero_grad() # zero gradients to avoid blowup\n",
    "                output = self.forward(X, sequence_lengths)\n",
    "\n",
    "                output = output[range(len(X)), sequence_lengths-1]\n",
    "\n",
    "                output = output.view(-1, self.vocab_size)\n",
    "\n",
    "                #print(output.shape)\n",
    "\n",
    "                loss = loss_function(output, y)\n",
    "\n",
    "                loss.backward()\n",
    "                #gradient clipping helps avoid blowup, which was a problem with training\n",
    "                torch.nn.utils.clip_grad_norm_(self.parameters(), max_norm=4)  \n",
    "                optimizer.step()\n",
    "   \n",
    "                #update metrics\n",
    "                epoch_loss += loss.item()\n",
    "                _, y_hat = torch.max(output, dim = 1)\n",
    "                correct_count += (y_hat == y).sum().item()\n",
    "                prediction_count += y.size(0)\n",
    "\n",
    "\n",
    "\n",
    "            #print metrics\n",
    "            print(f'Epoch [{epoch+1}/{epochs}], Loss: {loss.item():.4f}')\n",
    "            print(f'Epoch [{epoch+1}/{epochs}], Accuracy: {correct_count/prediction_count:.4f}')\n",
    "            print('   ')\n",
    "\n",
    "    \n",
    "    def generateToken(self, x,l):\n",
    "        \"predict the next token from a sequence\"\n",
    "\n",
    "        with torch.no_grad():\n",
    "            #this will be the last item in the prediciton vector\n",
    "            predicted_sequence = self.forward(x,l)\n",
    "            predicted_sequence = predicted_sequence[:,-1,:]\n",
    "            return torch.argmax(predicted_sequence, dim = 1)[0] #return argmax{log(p_i) w.r.t i}\n",
    "\n",
    "\n"
   ]
  },
  {
   "cell_type": "code",
   "execution_count": 133,
   "metadata": {},
   "outputs": [],
   "source": [
    "\n",
    "vocab_size = len(word_to_int)\n",
    "hidden_size = 2\n",
    "num_layers = 1\n",
    "epochs = 1\n",
    "loss_function = torch.nn.CrossEntropyLoss(reduction = \"mean\")"
   ]
  },
  {
   "cell_type": "code",
   "execution_count": 134,
   "metadata": {},
   "outputs": [],
   "source": [
    "\n",
    "lstm = LSTM(seq_length = len(X[0]), \n",
    "            hidden_size = hidden_size, \n",
    "            num_layers = num_layers, \n",
    "            vocab_size = vocab_size)\n",
    "\n",
    "\n",
    "optimizer = torch.optim.Adam(params = lstm.parameters(), lr = .01)\n",
    "#lstm.train(torch_data, epochs, loss_function, optimizer)"
   ]
  },
  {
   "cell_type": "markdown",
   "metadata": {},
   "source": [
    "Building a Proofs DataSet"
   ]
  },
  {
   "cell_type": "markdown",
   "metadata": {},
   "source": [
    "Load the testing data from hugging face"
   ]
  },
  {
   "cell_type": "code",
   "execution_count": 135,
   "metadata": {},
   "outputs": [],
   "source": [
    "def load_test_data():\n",
    "    \n",
    "    import pandas as pd\n",
    "    test_data = pd.read_csv(\"hf://datasets/afifio/PropositionalProofs/proofs.csv\").to_numpy()[:,0]\n",
    "    test_data = [s.replace('\\n', ' ').lower() for s in test_data]\n",
    "    test_data = [s.replace(':', ' ').lower() for s in test_data]\n",
    "    test_data = [s.replace('¬', '¬ ').lower() for s in test_data]\n",
    "    test_data = [s.replace('(', '( ').lower() for s in test_data]\n",
    "    test_data = [s.replace(')', ' )').lower() for s in test_data]\n",
    "    for i in range(0,10):\n",
    "        test_data = [s.replace(f'{i}.', '') for s in test_data]\n",
    "\n",
    "    test_data = [s.split() for s in test_data]\n",
    "    \n",
    "    return test_data\n",
    "\n",
    "\n",
    "def process_test_data(test_proofs, map):\n",
    "\n",
    "    f = lambda word : map[word]\n",
    "\n",
    "    test_proofs = [ [f(token) for token in proof ] for proof in test_proofs ]\n",
    "    return [len(proof) for proof in test_proofs], test_proofs\n",
    "\n"
   ]
  },
  {
   "cell_type": "code",
   "execution_count": 136,
   "metadata": {},
   "outputs": [],
   "source": [
    "test_data = load_test_data()\n",
    "test_sequence_lengths, test_data = process_test_data(test_data, word_to_int)\n",
    "test_data = process_data.pad(test_data, 0, X.shape[1])"
   ]
  },
  {
   "cell_type": "code",
   "execution_count": 137,
   "metadata": {},
   "outputs": [
    {
     "data": {
      "text/plain": [
       "tensor([8])"
      ]
     },
     "execution_count": 137,
     "metadata": {},
     "output_type": "execute_result"
    }
   ],
   "source": [
    "sample, length = test_data[0], test_sequence_lengths[0]\n",
    "length\n",
    "sample = t.tensor([sample], dtype = t.int64)\n",
    "length = t.tensor([length], dtype = t.int64)\n",
    "length"
   ]
  },
  {
   "cell_type": "code",
   "execution_count": 138,
   "metadata": {},
   "outputs": [
    {
     "data": {
      "text/plain": [
       "tensor(49)"
      ]
     },
     "execution_count": 138,
     "metadata": {},
     "output_type": "execute_result"
    }
   ],
   "source": [
    "lstm.generateToken(sample, length)"
   ]
  }
 ],
 "metadata": {
  "kernelspec": {
   "display_name": "ls_env",
   "language": "python",
   "name": "python3"
  },
  "language_info": {
   "codemirror_mode": {
    "name": "ipython",
    "version": 3
   },
   "file_extension": ".py",
   "mimetype": "text/x-python",
   "name": "python",
   "nbconvert_exporter": "python",
   "pygments_lexer": "ipython3",
   "version": "3.12.4"
  }
 },
 "nbformat": 4,
 "nbformat_minor": 2
}
